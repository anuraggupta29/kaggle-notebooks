{
  "nbformat": 4,
  "nbformat_minor": 0,
  "metadata": {
    "colab": {
      "name": "Pretrained model analysis.ipynb",
      "provenance": [],
      "collapsed_sections": []
    },
    "kernelspec": {
      "name": "python3",
      "display_name": "Python 3"
    }
  },
  "cells": [
    {
      "cell_type": "markdown",
      "metadata": {
        "id": "A3p6NNfXUNuG",
        "colab_type": "text"
      },
      "source": [
        "<h1> Analysis of pretrained models ResNet50 and VGG16 by building classifiers for identifying faults in buildings."
      ]
    },
    {
      "cell_type": "code",
      "metadata": {
        "id": "HzrGWbodWl06",
        "colab_type": "code",
        "colab": {}
      },
      "source": [
        "#connect to your google drive\n",
        "#from google.colab import drive \n",
        "#drive.mount('/content/gdrive')"
      ],
      "execution_count": 0,
      "outputs": []
    },
    {
      "cell_type": "code",
      "metadata": {
        "id": "tGvb3Zh_VGOn",
        "colab_type": "code",
        "colab": {}
      },
      "source": [
        "#get dataset and unzip dataset\n",
        "!wget https://s3-api.us-geo.objectstorage.softlayer.net/cf-courses-data/CognitiveClass/DL0321EN/data/concrete_data_week4.zip\n",
        "!unzip concrete_data_week4.zip"
      ],
      "execution_count": 0,
      "outputs": []
    },
    {
      "cell_type": "code",
      "metadata": {
        "id": "m0f84YqdVVh_",
        "colab_type": "code",
        "outputId": "4bfc743b-58fe-4e6c-d509-9968e027a02d",
        "colab": {
          "base_uri": "https://localhost:8080/",
          "height": 34
        }
      },
      "source": [
        "#import modules\n",
        "import keras\n",
        "from keras.models import Sequential\n",
        "from keras.layers import Dense\n",
        "\n",
        "from keras.preprocessing.image import ImageDataGenerator\n",
        "\n",
        "from keras.applications import VGG16\n",
        "from keras.applications.vgg16 import preprocess_input as preprocess_resnet\n",
        "\n",
        "from keras.applications import ResNet50\n",
        "from keras.applications.resnet50 import preprocess_input as preprocess_vgg16\n",
        "\n",
        "from keras.models import load_model"
      ],
      "execution_count": 0,
      "outputs": [
        {
          "output_type": "stream",
          "text": [
            "Using TensorFlow backend.\n"
          ],
          "name": "stderr"
        }
      ]
    },
    {
      "cell_type": "code",
      "metadata": {
        "id": "-7fxYUknVljd",
        "colab_type": "code",
        "colab": {}
      },
      "source": [
        "#define constants\n",
        "num_classes = 2\n",
        "image_resize = 224\n",
        "batch_size_training = 100\n",
        "batch_size_validation = 100"
      ],
      "execution_count": 0,
      "outputs": []
    },
    {
      "cell_type": "markdown",
      "metadata": {
        "id": "oxvWFI7CV9O_",
        "colab_type": "text"
      },
      "source": [
        "<h2> Modifying ResNet Pretrained Model</h2>"
      ]
    },
    {
      "cell_type": "code",
      "metadata": {
        "id": "M2Z6U4eyVoRw",
        "colab_type": "code",
        "colab": {}
      },
      "source": [
        "#create imagedatagenerator\n",
        "data_generator_resnet = ImageDataGenerator(preprocessing_function = preprocess_resnet)"
      ],
      "execution_count": 0,
      "outputs": []
    },
    {
      "cell_type": "code",
      "metadata": {
        "id": "T_q_dJ3EV0QG",
        "colab_type": "code",
        "outputId": "682f1bd6-91ae-438a-8f99-88720ccf5000",
        "colab": {
          "base_uri": "https://localhost:8080/",
          "height": 52
        }
      },
      "source": [
        "#create generator for train and validation dataset\n",
        "train_generator = data_generator_resnet.flow_from_directory(\n",
        "    'concrete_data_week4/train',\n",
        "    target_size=(image_resize, image_resize),\n",
        "    batch_size=batch_size_training,\n",
        "    class_mode='categorical')\n",
        "\n",
        "validation_generator = data_generator_resnet.flow_from_directory(\n",
        "    'concrete_data_week4/valid',\n",
        "    target_size = (image_resize, image_resize),\n",
        "    batch_size = 100,\n",
        "    class_mode = 'categorical'  \n",
        ")"
      ],
      "execution_count": 0,
      "outputs": [
        {
          "output_type": "stream",
          "text": [
            "Found 30001 images belonging to 2 classes.\n",
            "Found 9501 images belonging to 2 classes.\n"
          ],
          "name": "stdout"
        }
      ]
    },
    {
      "cell_type": "code",
      "metadata": {
        "id": "v1gWcJuoWIjC",
        "colab_type": "code",
        "colab": {}
      },
      "source": [
        "#modify the resnet50 pretrained model\n",
        "model = Sequential()\n",
        "\n",
        "model.add(ResNet50(\n",
        "    include_top=False,\n",
        "    pooling='avg',\n",
        "    weights='imagenet',\n",
        "    ))\n",
        "model.add(Dense(num_classes, activation='softmax'))\n",
        "\n",
        "model.layers[0].trainable = False"
      ],
      "execution_count": 0,
      "outputs": []
    },
    {
      "cell_type": "code",
      "metadata": {
        "id": "POsB-8bPWSw7",
        "colab_type": "code",
        "outputId": "11b9210e-908f-4e6b-851d-052c0e5af3b7",
        "colab": {
          "base_uri": "https://localhost:8080/",
          "height": 228
        }
      },
      "source": [
        "#view model summary\n",
        "model.summary()"
      ],
      "execution_count": 0,
      "outputs": [
        {
          "output_type": "stream",
          "text": [
            "Model: \"sequential_2\"\n",
            "_________________________________________________________________\n",
            "Layer (type)                 Output Shape              Param #   \n",
            "=================================================================\n",
            "resnet50 (Model)             (None, 2048)              23587712  \n",
            "_________________________________________________________________\n",
            "dense_2 (Dense)              (None, 2)                 4098      \n",
            "=================================================================\n",
            "Total params: 23,591,810\n",
            "Trainable params: 4,098\n",
            "Non-trainable params: 23,587,712\n",
            "_________________________________________________________________\n"
          ],
          "name": "stdout"
        }
      ]
    },
    {
      "cell_type": "code",
      "metadata": {
        "id": "BqbmCLadWTc2",
        "colab_type": "code",
        "colab": {}
      },
      "source": [
        "#compile the model\n",
        "model.compile(optimizer='adam', loss='categorical_crossentropy', metrics=['accuracy'])"
      ],
      "execution_count": 0,
      "outputs": []
    },
    {
      "cell_type": "code",
      "metadata": {
        "id": "f7UgbGKhYtle",
        "colab_type": "code",
        "colab": {}
      },
      "source": [
        "#parameters for fitting generator\n",
        "steps_per_epoch_training = len(train_generator)\n",
        "steps_per_epoch_validation = len(validation_generator)\n",
        "num_epochs = 2"
      ],
      "execution_count": 0,
      "outputs": []
    },
    {
      "cell_type": "code",
      "metadata": {
        "id": "DWYrr9mPWVsC",
        "colab_type": "code",
        "outputId": "27a8423a-b44d-407a-ee91-cf5a3f5677a1",
        "colab": {
          "base_uri": "https://localhost:8080/",
          "height": 107
        }
      },
      "source": [
        "#fit the generator to model\n",
        "fit_history = model.fit_generator(\n",
        "    train_generator,\n",
        "    steps_per_epoch=steps_per_epoch_training,\n",
        "    epochs=num_epochs,\n",
        "    validation_data=validation_generator,\n",
        "    validation_steps=steps_per_epoch_validation,\n",
        "    verbose=1,\n",
        ")"
      ],
      "execution_count": 0,
      "outputs": [
        {
          "output_type": "stream",
          "text": [
            "Epoch 1/2\n",
            "301/301 [==============================] - 129s 429ms/step - loss: 0.0363 - accuracy: 0.9893 - val_loss: 0.0016 - val_accuracy: 0.8873\n",
            "Epoch 2/2\n",
            "301/301 [==============================] - 115s 384ms/step - loss: 0.0162 - accuracy: 0.9959 - val_loss: 8.5231e-05 - val_accuracy: 0.9084\n"
          ],
          "name": "stdout"
        }
      ]
    },
    {
      "cell_type": "code",
      "metadata": {
        "id": "e9qCNu0aWg5l",
        "colab_type": "code",
        "colab": {}
      },
      "source": [
        "#ave the model\n",
        "model.save('classifier_resnet_model.h5')\n",
        "#save model to google drive\n",
        "#model.save('/content/gdrive/My Drive/keras_models/classifier_resnet_model.h5')"
      ],
      "execution_count": 0,
      "outputs": []
    },
    {
      "cell_type": "markdown",
      "metadata": {
        "id": "K9oqBUUXX1Jp",
        "colab_type": "text"
      },
      "source": [
        "<h2> Modifying VGG16 model<h2>"
      ]
    },
    {
      "cell_type": "code",
      "metadata": {
        "id": "Atr-XJ8DX40P",
        "colab_type": "code",
        "colab": {}
      },
      "source": [
        "#create imagedatagenerator\n",
        "data_generator_vgg16 = ImageDataGenerator(preprocessing_function = preprocess_vgg16)"
      ],
      "execution_count": 0,
      "outputs": []
    },
    {
      "cell_type": "code",
      "metadata": {
        "id": "-q_UNPjJYP1v",
        "colab_type": "code",
        "outputId": "28c3e0a8-e0f7-4b73-820f-0657d9e91f0a",
        "colab": {
          "base_uri": "https://localhost:8080/",
          "height": 52
        }
      },
      "source": [
        "#create a training data generator\n",
        "train_generator = data_generator_vgg16.flow_from_directory(\n",
        "    'concrete_data_week4/train',\n",
        "    target_size = (image_resize, image_resize),\n",
        "    batch_size = batch_size_training,\n",
        "    class_mode = 'categorical'\n",
        ")\n",
        "\n",
        "#create a validation data generator\n",
        "validation_generator = data_generator_vgg16.flow_from_directory(\n",
        "    'concrete_data_week4/valid',\n",
        "    target_size = (image_resize, image_resize),\n",
        "    batch_size = batch_size_validation,\n",
        "    class_mode = 'categorical'\n",
        ")"
      ],
      "execution_count": 0,
      "outputs": [
        {
          "output_type": "stream",
          "text": [
            "Found 30001 images belonging to 2 classes.\n",
            "Found 9501 images belonging to 2 classes.\n"
          ],
          "name": "stdout"
        }
      ]
    },
    {
      "cell_type": "code",
      "metadata": {
        "id": "1BRC5ioGYX9d",
        "colab_type": "code",
        "outputId": "6d0e6c57-a142-4b33-b35b-6d487926b150",
        "colab": {
          "base_uri": "https://localhost:8080/",
          "height": 72
        }
      },
      "source": [
        "#modify pretrained model\n",
        "model2 = Sequential()\n",
        "\n",
        "model2.add(VGG16(\n",
        "    include_top = False,\n",
        "    pooling = 'avg',\n",
        "    weights = 'imagenet'\n",
        "))\n",
        "\n",
        "model2.add(Dense(num_classes, activation = 'softmax'))\n",
        "\n",
        "model2.layers[0].trainable = False"
      ],
      "execution_count": 0,
      "outputs": [
        {
          "output_type": "stream",
          "text": [
            "Downloading data from https://github.com/fchollet/deep-learning-models/releases/download/v0.1/vgg16_weights_tf_dim_ordering_tf_kernels_notop.h5\n",
            "58892288/58889256 [==============================] - 5s 0us/step\n"
          ],
          "name": "stdout"
        }
      ]
    },
    {
      "cell_type": "code",
      "metadata": {
        "id": "dXtDsk_UYekC",
        "colab_type": "code",
        "outputId": "6741217d-9654-46ce-e4e1-d6837834b4a6",
        "colab": {
          "base_uri": "https://localhost:8080/",
          "height": 228
        }
      },
      "source": [
        "model2.summary()"
      ],
      "execution_count": 0,
      "outputs": [
        {
          "output_type": "stream",
          "text": [
            "Model: \"sequential_3\"\n",
            "_________________________________________________________________\n",
            "Layer (type)                 Output Shape              Param #   \n",
            "=================================================================\n",
            "vgg16 (Model)                (None, 512)               14714688  \n",
            "_________________________________________________________________\n",
            "dense_3 (Dense)              (None, 2)                 1026      \n",
            "=================================================================\n",
            "Total params: 14,715,714\n",
            "Trainable params: 1,026\n",
            "Non-trainable params: 14,714,688\n",
            "_________________________________________________________________\n"
          ],
          "name": "stdout"
        }
      ]
    },
    {
      "cell_type": "code",
      "metadata": {
        "id": "uNK1PJlDYhsp",
        "colab_type": "code",
        "colab": {}
      },
      "source": [
        "#compile the model\n",
        "model2.compile(\n",
        "    optimizer = 'adam',\n",
        "    loss = 'categorical_crossentropy',\n",
        "    metrics = ['accuracy']\n",
        ")"
      ],
      "execution_count": 0,
      "outputs": []
    },
    {
      "cell_type": "code",
      "metadata": {
        "id": "7kG5blE9Yp45",
        "colab_type": "code",
        "colab": {}
      },
      "source": [
        "#initialize epochs and steps\n",
        "steps_per_epoch_training = len(train_generator)\n",
        "steps_per_epoch_validation = len(validation_generator)\n",
        "num_epochs = 2"
      ],
      "execution_count": 0,
      "outputs": []
    },
    {
      "cell_type": "code",
      "metadata": {
        "id": "DvYCC2JcYzwP",
        "colab_type": "code",
        "outputId": "517d2fa3-ac6d-47d7-892b-412a4710a892",
        "colab": {
          "base_uri": "https://localhost:8080/",
          "height": 107
        }
      },
      "source": [
        "#fit the generator to model\n",
        "fit_history2 = model2.fit_generator(\n",
        "    train_generator,\n",
        "    steps_per_epoch = steps_per_epoch_training,\n",
        "    epochs = num_epochs,\n",
        "    validation_data = validation_generator,\n",
        "    validation_steps = steps_per_epoch_validation\n",
        ")"
      ],
      "execution_count": 0,
      "outputs": [
        {
          "output_type": "stream",
          "text": [
            "Epoch 1/2\n",
            "301/301 [==============================] - 115s 381ms/step - loss: 0.1377 - accuracy: 0.9467 - val_loss: 0.0159 - val_accuracy: 0.9914\n",
            "Epoch 2/2\n",
            "301/301 [==============================] - 110s 367ms/step - loss: 0.0247 - accuracy: 0.9937 - val_loss: 4.7684e-07 - val_accuracy: 0.9953\n"
          ],
          "name": "stdout"
        }
      ]
    },
    {
      "cell_type": "code",
      "metadata": {
        "id": "uy224rT0Y9UG",
        "colab_type": "code",
        "colab": {}
      },
      "source": [
        "#save model locally\n",
        "model2.save('classifier_vgg16_model.h5')\n",
        "#save model to drive\n",
        "#model2.save('/content/gdrive/My Drive/keras_models/classifier_vgg16_model.h5')"
      ],
      "execution_count": 0,
      "outputs": []
    },
    {
      "cell_type": "code",
      "metadata": {
        "id": "S1xvmgcUZJaX",
        "colab_type": "code",
        "colab": {}
      },
      "source": [
        "#to copy from drive\n",
        "#!cp /content/gdrive/My\\ Drive/keras_models/classifier_resnet_model.h5 ./classifier_resnet_model.h5"
      ],
      "execution_count": 0,
      "outputs": []
    },
    {
      "cell_type": "markdown",
      "metadata": {
        "id": "ZhIR2rKvZOx9",
        "colab_type": "text"
      },
      "source": [
        "<h2>Testing resnet50 model</h2>"
      ]
    },
    {
      "cell_type": "code",
      "metadata": {
        "id": "CflmxrbkZTwA",
        "colab_type": "code",
        "outputId": "5974a6cb-6953-490b-b421-e926329ff5b9",
        "colab": {
          "base_uri": "https://localhost:8080/",
          "height": 34
        }
      },
      "source": [
        "#create a test data generator\n",
        "data_generator = ImageDataGenerator()\n",
        "\n",
        "test_generator = data_generator.flow_from_directory(\n",
        "    'concrete_data_week4/test',\n",
        "    target_size = (image_resize, image_resize),\n",
        "    shuffle = False\n",
        ")"
      ],
      "execution_count": 0,
      "outputs": [
        {
          "output_type": "stream",
          "text": [
            "Found 500 images belonging to 2 classes.\n"
          ],
          "name": "stdout"
        }
      ]
    },
    {
      "cell_type": "code",
      "metadata": {
        "id": "nbYjhOq1aTt_",
        "colab_type": "code",
        "outputId": "c167fcc7-ca4a-4e97-ff14-5eb94279a7c2",
        "colab": {
          "base_uri": "https://localhost:8080/",
          "height": 72
        }
      },
      "source": [
        "model_resnet = load_model('classifier_resnet_model.h5')"
      ],
      "execution_count": 0,
      "outputs": [
        {
          "output_type": "stream",
          "text": [
            "/usr/local/lib/python3.6/dist-packages/keras/engine/saving.py:384: UserWarning: Error in loading the saved optimizer state. As a result, your model is starting with a freshly initialized optimizer.\n",
            "  warnings.warn('Error in loading the saved optimizer '\n"
          ],
          "name": "stderr"
        }
      ]
    },
    {
      "cell_type": "code",
      "metadata": {
        "id": "sV1ECnWhaUQU",
        "colab_type": "code",
        "outputId": "b3d61a13-6f3c-4316-ae25-e6ffc686ea59",
        "colab": {
          "base_uri": "https://localhost:8080/",
          "height": 34
        }
      },
      "source": [
        "#evaluate resnet model\n",
        "eval_resnet = model_resnet.evaluate_generator(\n",
        "    test_generator, \n",
        "    steps=None, \n",
        "    callbacks=None,\n",
        "    max_queue_size=10,\n",
        "    workers=1,\n",
        "    use_multiprocessing=False,\n",
        "    verbose=1)"
      ],
      "execution_count": 0,
      "outputs": [
        {
          "output_type": "stream",
          "text": [
            "16/16 [==============================] - 2s 111ms/step\n"
          ],
          "name": "stdout"
        }
      ]
    },
    {
      "cell_type": "code",
      "metadata": {
        "id": "UIFIEZ1zayNP",
        "colab_type": "code",
        "outputId": "a98bcc7e-f0df-4d4d-977c-dac57be3bba8",
        "colab": {
          "base_uri": "https://localhost:8080/",
          "height": 70
        }
      },
      "source": [
        "print('Resnet50 model performance:')\n",
        "print('loss for test dataset is : {}'.format(eval_resnet[0]))\n",
        "print('accuracy for test dataset is : {}'.format(eval_resnet[1]))"
      ],
      "execution_count": 0,
      "outputs": [
        {
          "output_type": "stream",
          "text": [
            "Resnet50 model performance:\n",
            "loss for test dataset is : 2.5136446952819824\n",
            "accuracy for test dataset is : 0.5899999737739563\n"
          ],
          "name": "stdout"
        }
      ]
    },
    {
      "cell_type": "code",
      "metadata": {
        "id": "dPOZAx7waXtj",
        "colab_type": "code",
        "outputId": "ec90b5d4-a677-4d84-fc7a-7c5d8b7dd8e1",
        "colab": {
          "base_uri": "https://localhost:8080/",
          "height": 34
        }
      },
      "source": [
        "#predict using resnet model\n",
        "predict_resnet = model_resnet.predict_generator(\n",
        "    test_generator, \n",
        "    steps=None, \n",
        "    callbacks=None, \n",
        "    max_queue_size=10, \n",
        "    workers=1, \n",
        "    use_multiprocessing=False, \n",
        "    verbose=1)"
      ],
      "execution_count": 0,
      "outputs": [
        {
          "output_type": "stream",
          "text": [
            "16/16 [==============================] - 3s 206ms/step\n"
          ],
          "name": "stdout"
        }
      ]
    },
    {
      "cell_type": "code",
      "metadata": {
        "id": "kLYk5bpSafqV",
        "colab_type": "code",
        "outputId": "49b4ecce-fe2b-4d93-97e1-71d7aafb2e90",
        "colab": {
          "base_uri": "https://localhost:8080/",
          "height": 175
        }
      },
      "source": [
        "resnet_predict_arr = []\n",
        "\n",
        "for i in predict_resnet:\n",
        "  if int(round(i[0])) == 1:\n",
        "    resnet_predict_arr.append('Positive')\n",
        "  else:\n",
        "    resnet_predict_arr.append('Negative')\n",
        "\n",
        "print('PRDICTION FOR RESNET')\n",
        "\n",
        "for i in resnet_predict_arr[0:5]:\n",
        "  print(i)\n",
        "\n",
        "print()\n",
        "print('Total positives: {}'.format(resnet_predict_arr.count('Positive')))\n",
        "print('Total negatives: {}'.format(resnet_predict_arr.count('Negative')))"
      ],
      "execution_count": 0,
      "outputs": [
        {
          "output_type": "stream",
          "text": [
            "PRDICTION FOR RESNET\n",
            "Positive\n",
            "Positive\n",
            "Positive\n",
            "Positive\n",
            "Positive\n",
            "\n",
            "Total positives: 455\n",
            "Total negatives: 45\n"
          ],
          "name": "stdout"
        }
      ]
    },
    {
      "cell_type": "markdown",
      "metadata": {
        "id": "DLji4g_Vai_0",
        "colab_type": "text"
      },
      "source": [
        "<h2>Testing VGG16 model</h2>"
      ]
    },
    {
      "cell_type": "code",
      "metadata": {
        "id": "MasJ43Nna-We",
        "colab_type": "code",
        "outputId": "f4176294-cf02-47f8-d9ea-ef51bbb01704",
        "colab": {
          "base_uri": "https://localhost:8080/",
          "height": 72
        }
      },
      "source": [
        "model_vgg16 = load_model('classifier_vgg16_model.h5')"
      ],
      "execution_count": 0,
      "outputs": [
        {
          "output_type": "stream",
          "text": [
            "/usr/local/lib/python3.6/dist-packages/keras/engine/saving.py:384: UserWarning: Error in loading the saved optimizer state. As a result, your model is starting with a freshly initialized optimizer.\n",
            "  warnings.warn('Error in loading the saved optimizer '\n"
          ],
          "name": "stderr"
        }
      ]
    },
    {
      "cell_type": "code",
      "metadata": {
        "id": "bqeiGu16ar1q",
        "colab_type": "code",
        "outputId": "8b371bc3-9f48-42d5-dcba-c004d75d7b07",
        "colab": {
          "base_uri": "https://localhost:8080/",
          "height": 34
        }
      },
      "source": [
        "#evaluate vgg16 model\n",
        "eval_vgg16 = model_vgg16.evaluate_generator(\n",
        "    test_generator, \n",
        "    steps=None, \n",
        "    callbacks=None,\n",
        "    max_queue_size=10,\n",
        "    workers=1,\n",
        "    use_multiprocessing=False,\n",
        "    verbose=1)"
      ],
      "execution_count": 0,
      "outputs": [
        {
          "output_type": "stream",
          "text": [
            "16/16 [==============================] - 3s 160ms/step\n"
          ],
          "name": "stdout"
        }
      ]
    },
    {
      "cell_type": "code",
      "metadata": {
        "id": "x8fhRFrOavKw",
        "colab_type": "code",
        "outputId": "40e9d331-336e-4eca-b650-05dfdc1546d7",
        "colab": {
          "base_uri": "https://localhost:8080/",
          "height": 70
        }
      },
      "source": [
        "print('VGG16 model performance:')\n",
        "print('loss for test dataset is : {}'.format(eval_vgg16[0]))\n",
        "print('accuracy for test dataset is : {}'.format(eval_vgg16[1]))"
      ],
      "execution_count": 0,
      "outputs": [
        {
          "output_type": "stream",
          "text": [
            "VGG16 model performance:\n",
            "loss for test dataset is : 0.2777916193008423\n",
            "accuracy for test dataset is : 0.9279999732971191\n"
          ],
          "name": "stdout"
        }
      ]
    },
    {
      "cell_type": "code",
      "metadata": {
        "id": "GXAXQiI4bCJG",
        "colab_type": "code",
        "outputId": "8ba3d52f-b0d0-4bb3-ea89-839b76dfed38",
        "colab": {
          "base_uri": "https://localhost:8080/",
          "height": 34
        }
      },
      "source": [
        "#predict using vgg16 model\n",
        "\n",
        "predict_vgg16 = model_vgg16.predict_generator(\n",
        "    test_generator, \n",
        "    steps=None, \n",
        "    callbacks=None, \n",
        "    max_queue_size=10, \n",
        "    workers=1, \n",
        "    use_multiprocessing=False, \n",
        "    verbose=1)"
      ],
      "execution_count": 0,
      "outputs": [
        {
          "output_type": "stream",
          "text": [
            "16/16 [==============================] - 1s 87ms/step\n"
          ],
          "name": "stdout"
        }
      ]
    },
    {
      "cell_type": "code",
      "metadata": {
        "id": "Me0ssS6EbC-m",
        "colab_type": "code",
        "outputId": "a1468946-54a9-457b-e787-a761f37b7de2",
        "colab": {
          "base_uri": "https://localhost:8080/",
          "height": 175
        }
      },
      "source": [
        "vgg16_predict_arr = []\n",
        "\n",
        "for i in predict_vgg16:\n",
        "  if int(round(i[0])) == 1:\n",
        "    vgg16_predict_arr.append('Positive')\n",
        "  else:\n",
        "    vgg16_predict_arr.append('Negative')\n",
        "\n",
        "print('PRDICTION FOR VGG16')\n",
        "\n",
        "for i in vgg16_predict_arr[0:5]:\n",
        "  print(i)\n",
        "\n",
        "print()\n",
        "print('Total positives: {}'.format(vgg16_predict_arr.count('Positive')))\n",
        "print('Total negatives: {}'.format(vgg16_predict_arr.count('Negative')))"
      ],
      "execution_count": 0,
      "outputs": [
        {
          "output_type": "stream",
          "text": [
            "PRDICTION FOR VGG16\n",
            "Positive\n",
            "Positive\n",
            "Positive\n",
            "Positive\n",
            "Positive\n",
            "\n",
            "Total positives: 286\n",
            "Total negatives: 214\n"
          ],
          "name": "stdout"
        }
      ]
    },
    {
      "cell_type": "markdown",
      "metadata": {
        "id": "D5IFGhVriNgs",
        "colab_type": "text"
      },
      "source": [
        "<h2>In this specific case of classification, the VGG16 model performs far better than ResNet50 with test accuracy of 93% and 59% respectively.</h2>"
      ]
    }
  ]
}